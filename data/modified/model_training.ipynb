{
 "cells": [
  {
   "cell_type": "code",
   "outputs": [],
   "source": [
    "import pandas as pd\n",
    "from sklearn.model_selection import train_test_split\n",
    "from sklearn.pipeline import Pipeline\n",
    "from sklearn.preprocessing import StandardScaler\n",
    "from gplearn.genetic import SymbolicRegressor"
   ],
   "metadata": {
    "collapsed": false,
    "ExecuteTime": {
     "end_time": "2024-03-01T23:09:04.682392200Z",
     "start_time": "2024-03-01T23:09:04.632446Z"
    }
   },
   "id": "d931c7a43bf4f397",
   "execution_count": 197
  },
  {
   "cell_type": "code",
   "outputs": [
    {
     "data": {
      "text/plain": "(2201, 4)"
     },
     "execution_count": 198,
     "metadata": {},
     "output_type": "execute_result"
    }
   ],
   "source": [
    "autumn_data = pd.read_csv('../autumn_data.csv')\n",
    "autumn_data.shape"
   ],
   "metadata": {
    "collapsed": true,
    "ExecuteTime": {
     "end_time": "2024-03-01T23:09:07.311717400Z",
     "start_time": "2024-03-01T23:09:07.281955700Z"
    }
   },
   "id": "initial_id",
   "execution_count": 198
  },
  {
   "cell_type": "code",
   "outputs": [
    {
     "data": {
      "text/plain": "        datetime  active_electricity  outdoor_temperature  indoor_temperature\n0  01-10-22 3:00            693.1875            27.769607           21.416667\n1  01-10-22 4:00            460.0375            27.924395           21.083333\n2  01-10-22 5:00            448.0125            28.079184           21.250000\n3  01-10-22 6:00            462.2875            28.233972           21.583333\n4  01-10-22 7:00            449.2500            28.388761           21.916667",
      "text/html": "<div>\n<style scoped>\n    .dataframe tbody tr th:only-of-type {\n        vertical-align: middle;\n    }\n\n    .dataframe tbody tr th {\n        vertical-align: top;\n    }\n\n    .dataframe thead th {\n        text-align: right;\n    }\n</style>\n<table border=\"1\" class=\"dataframe\">\n  <thead>\n    <tr style=\"text-align: right;\">\n      <th></th>\n      <th>datetime</th>\n      <th>active_electricity</th>\n      <th>outdoor_temperature</th>\n      <th>indoor_temperature</th>\n    </tr>\n  </thead>\n  <tbody>\n    <tr>\n      <th>0</th>\n      <td>01-10-22 3:00</td>\n      <td>693.1875</td>\n      <td>27.769607</td>\n      <td>21.416667</td>\n    </tr>\n    <tr>\n      <th>1</th>\n      <td>01-10-22 4:00</td>\n      <td>460.0375</td>\n      <td>27.924395</td>\n      <td>21.083333</td>\n    </tr>\n    <tr>\n      <th>2</th>\n      <td>01-10-22 5:00</td>\n      <td>448.0125</td>\n      <td>28.079184</td>\n      <td>21.250000</td>\n    </tr>\n    <tr>\n      <th>3</th>\n      <td>01-10-22 6:00</td>\n      <td>462.2875</td>\n      <td>28.233972</td>\n      <td>21.583333</td>\n    </tr>\n    <tr>\n      <th>4</th>\n      <td>01-10-22 7:00</td>\n      <td>449.2500</td>\n      <td>28.388761</td>\n      <td>21.916667</td>\n    </tr>\n  </tbody>\n</table>\n</div>"
     },
     "execution_count": 199,
     "metadata": {},
     "output_type": "execute_result"
    }
   ],
   "source": [
    "autumn_data.head()"
   ],
   "metadata": {
    "collapsed": false,
    "ExecuteTime": {
     "end_time": "2024-03-01T23:09:11.216014500Z",
     "start_time": "2024-03-01T23:09:11.179074200Z"
    }
   },
   "id": "cbc633bb2a5d231e",
   "execution_count": 199
  },
  {
   "cell_type": "code",
   "outputs": [],
   "source": [
    "def preprocess_dates_string(dataframe, date_column_name):\n",
    "    for i in range(len(dataframe)):\n",
    "        if len(dataframe.iloc[i][0].split(' ')[-1].split(':')[0]) < 2:\n",
    "            dataframe.at[i, date_column_name] = dataframe.iloc[i][0].split(' ')[0] + \" 0\" + \\\n",
    "                                                dataframe.iloc[i][0].split(' ')[-1]\n",
    "    return dataframe"
   ],
   "metadata": {
    "collapsed": false,
    "ExecuteTime": {
     "end_time": "2024-03-01T23:09:20.538049200Z",
     "start_time": "2024-03-01T23:09:20.490161400Z"
    }
   },
   "id": "ad4684d95d35c6e1",
   "execution_count": 200
  },
  {
   "cell_type": "code",
   "outputs": [
    {
     "name": "stderr",
     "output_type": "stream",
     "text": [
      "/tmp/ipykernel_46844/2825865284.py:3: FutureWarning: Series.__getitem__ treating keys as positions is deprecated. In a future version, integer keys will always be treated as labels (consistent with DataFrame behavior). To access a value by position, use `ser.iloc[pos]`\n",
      "  if len(dataframe.iloc[i][0].split(' ')[-1].split(':')[0]) < 2:\n",
      "/tmp/ipykernel_46844/2825865284.py:4: FutureWarning: Series.__getitem__ treating keys as positions is deprecated. In a future version, integer keys will always be treated as labels (consistent with DataFrame behavior). To access a value by position, use `ser.iloc[pos]`\n",
      "  dataframe.at[i, date_column_name] = dataframe.iloc[i][0].split(' ')[0] + \" 0\" + \\\n",
      "/tmp/ipykernel_46844/2825865284.py:5: FutureWarning: Series.__getitem__ treating keys as positions is deprecated. In a future version, integer keys will always be treated as labels (consistent with DataFrame behavior). To access a value by position, use `ser.iloc[pos]`\n",
      "  dataframe.iloc[i][0].split(' ')[-1]\n"
     ]
    }
   ],
   "source": [
    "dataset = preprocess_dates_string(autumn_data, 'datetime')"
   ],
   "metadata": {
    "collapsed": false,
    "ExecuteTime": {
     "end_time": "2024-03-01T23:09:21.928235700Z",
     "start_time": "2024-03-01T23:09:21.746632Z"
    }
   },
   "id": "8a22ab7414217cd8",
   "execution_count": 201
  },
  {
   "cell_type": "code",
   "outputs": [],
   "source": [
    "dataset = dataset[:len(dataset) - 24 * 2]\n",
    "date_time = pd.to_datetime(dataset.datetime, format='%d-%m-%y %H:%M')"
   ],
   "metadata": {
    "collapsed": false,
    "ExecuteTime": {
     "end_time": "2024-03-01T23:09:23.944745300Z",
     "start_time": "2024-03-01T23:09:23.934531400Z"
    }
   },
   "id": "1ca8618b1a6cadc8",
   "execution_count": 202
  },
  {
   "cell_type": "code",
   "outputs": [],
   "source": [
    "holiday_dates = ['2022-10-28', '2022-11-11', '2022-11-17', '2022-12-25', '2022-12-26']\n",
    "holiday_cal = pd.DatetimeIndex(holiday_dates)\n",
    "holidays = [1 if dt.date() in holiday_cal.date or dt.dayofweek == 5 or dt.dayofweek == 6 else 0 for dt in date_time]"
   ],
   "metadata": {
    "collapsed": false,
    "ExecuteTime": {
     "end_time": "2024-03-01T23:10:03.921588500Z",
     "start_time": "2024-03-01T23:10:03.890553Z"
    }
   },
   "id": "1d78de33405a57e8",
   "execution_count": 203
  },
  {
   "cell_type": "code",
   "outputs": [
    {
     "name": "stderr",
     "output_type": "stream",
     "text": [
      "/tmp/ipykernel_46844/3300493263.py:3: SettingWithCopyWarning: \n",
      "A value is trying to be set on a copy of a slice from a DataFrame.\n",
      "Try using .loc[row_indexer,col_indexer] = value instead\n",
      "\n",
      "See the caveats in the documentation: https://pandas.pydata.org/pandas-docs/stable/user_guide/indexing.html#returning-a-view-versus-a-copy\n",
      "  dataset['is_work_hour'] = work_hours\n"
     ]
    }
   ],
   "source": [
    "work_hour_range = range(8, 16)\n",
    "work_hours = [1 if dt.time().hour in work_hour_range and holidays[num] != 1 else 0 for num, dt in enumerate(date_time)]\n",
    "dataset['is_work_hour'] = work_hours"
   ],
   "metadata": {
    "collapsed": false,
    "ExecuteTime": {
     "end_time": "2024-03-01T23:10:08.069876100Z",
     "start_time": "2024-03-01T23:10:08.052844600Z"
    }
   },
   "id": "d89b05774e0b36e7",
   "execution_count": 204
  },
  {
   "cell_type": "code",
   "outputs": [],
   "source": [
    "dataset = dataset[dataset['is_work_hour'] == 1].drop(['is_work_hour'], axis=1)"
   ],
   "metadata": {
    "collapsed": false,
    "ExecuteTime": {
     "end_time": "2024-03-01T23:10:11.015226800Z",
     "start_time": "2024-03-01T23:10:10.997204500Z"
    }
   },
   "id": "d5cc7bc025284432",
   "execution_count": 205
  },
  {
   "cell_type": "code",
   "outputs": [],
   "source": [
    "dataset['datetime'] = pd.to_datetime(dataset.datetime, format='%d-%m-%y %H:%M')"
   ],
   "metadata": {
    "collapsed": false,
    "ExecuteTime": {
     "end_time": "2024-03-01T23:10:11.861860100Z",
     "start_time": "2024-03-01T23:10:11.836811Z"
    }
   },
   "id": "a74940559ff8614f",
   "execution_count": 206
  },
  {
   "cell_type": "code",
   "outputs": [
    {
     "data": {
      "text/plain": "              datetime  active_electricity  outdoor_temperature  \\\n53 2022-10-03 08:00:00              549.55            28.513594   \n54 2022-10-03 09:00:00              629.40            28.996465   \n55 2022-10-03 10:00:00              732.05            28.892873   \n56 2022-10-03 11:00:00             1566.00            28.587663   \n57 2022-10-03 12:00:00             3061.65            28.182514   \n\n    indoor_temperature  \n53           23.250000  \n54           23.583333  \n55           23.916667  \n56           24.250000  \n57           24.583333  ",
      "text/html": "<div>\n<style scoped>\n    .dataframe tbody tr th:only-of-type {\n        vertical-align: middle;\n    }\n\n    .dataframe tbody tr th {\n        vertical-align: top;\n    }\n\n    .dataframe thead th {\n        text-align: right;\n    }\n</style>\n<table border=\"1\" class=\"dataframe\">\n  <thead>\n    <tr style=\"text-align: right;\">\n      <th></th>\n      <th>datetime</th>\n      <th>active_electricity</th>\n      <th>outdoor_temperature</th>\n      <th>indoor_temperature</th>\n    </tr>\n  </thead>\n  <tbody>\n    <tr>\n      <th>53</th>\n      <td>2022-10-03 08:00:00</td>\n      <td>549.55</td>\n      <td>28.513594</td>\n      <td>23.250000</td>\n    </tr>\n    <tr>\n      <th>54</th>\n      <td>2022-10-03 09:00:00</td>\n      <td>629.40</td>\n      <td>28.996465</td>\n      <td>23.583333</td>\n    </tr>\n    <tr>\n      <th>55</th>\n      <td>2022-10-03 10:00:00</td>\n      <td>732.05</td>\n      <td>28.892873</td>\n      <td>23.916667</td>\n    </tr>\n    <tr>\n      <th>56</th>\n      <td>2022-10-03 11:00:00</td>\n      <td>1566.00</td>\n      <td>28.587663</td>\n      <td>24.250000</td>\n    </tr>\n    <tr>\n      <th>57</th>\n      <td>2022-10-03 12:00:00</td>\n      <td>3061.65</td>\n      <td>28.182514</td>\n      <td>24.583333</td>\n    </tr>\n  </tbody>\n</table>\n</div>"
     },
     "execution_count": 207,
     "metadata": {},
     "output_type": "execute_result"
    }
   ],
   "source": [
    "dataset.head()"
   ],
   "metadata": {
    "collapsed": false,
    "ExecuteTime": {
     "end_time": "2024-03-01T23:10:13.188081900Z",
     "start_time": "2024-03-01T23:10:13.165935700Z"
    }
   },
   "id": "5d8b3675b0b6cdb8",
   "execution_count": 207
  },
  {
   "cell_type": "code",
   "outputs": [],
   "source": [
    "def prepare_timeseries_data(data):\n",
    "    data['past_electricity'] = data.shift(8)['active_electricity'].dropna()\n",
    "    return data.dropna()"
   ],
   "metadata": {
    "collapsed": false,
    "ExecuteTime": {
     "end_time": "2024-03-01T23:10:22.065328200Z",
     "start_time": "2024-03-01T23:10:22.041686100Z"
    }
   },
   "id": "e4db2df5c564c8ee",
   "execution_count": 208
  },
  {
   "cell_type": "code",
   "outputs": [],
   "source": [
    "dataset = prepare_timeseries_data(dataset)"
   ],
   "metadata": {
    "collapsed": false,
    "ExecuteTime": {
     "end_time": "2024-03-01T23:10:27.934651800Z",
     "start_time": "2024-03-01T23:10:27.914630700Z"
    }
   },
   "id": "6502caa06aa76d6a",
   "execution_count": 209
  },
  {
   "cell_type": "code",
   "outputs": [],
   "source": [
    "def add_ids(dataframe):\n",
    "    ids = range(1, len(dataframe)+1)\n",
    "    dataframe['id'] = ids\n",
    "    return dataframe"
   ],
   "metadata": {
    "collapsed": false,
    "ExecuteTime": {
     "end_time": "2024-03-01T23:10:37.588221600Z",
     "start_time": "2024-03-01T23:10:37.568216300Z"
    }
   },
   "id": "b7f01bc423398115",
   "execution_count": 210
  },
  {
   "cell_type": "code",
   "outputs": [],
   "source": [
    "dataset = add_ids(dataset)"
   ],
   "metadata": {
    "collapsed": false,
    "ExecuteTime": {
     "end_time": "2024-03-01T23:10:38.163137700Z",
     "start_time": "2024-03-01T23:10:38.137127Z"
    }
   },
   "id": "5286bd14c0a2ce90",
   "execution_count": 211
  },
  {
   "cell_type": "code",
   "outputs": [
    {
     "data": {
      "text/plain": "              datetime  active_electricity  outdoor_temperature  \\\n77 2022-10-04 08:00:00            378.1250            26.889868   \n78 2022-10-04 09:00:00            687.1625            27.265097   \n79 2022-10-04 10:00:00            618.7375            27.271529   \n80 2022-10-04 11:00:00           1016.6875            27.142694   \n81 2022-10-04 12:00:00           1224.0500            27.013860   \n\n    indoor_temperature  past_electricity  id  \n77           18.500000            549.55   1  \n78           20.500000            629.40   2  \n79           22.500000            732.05   3  \n80           23.500000           1566.00   4  \n81           24.166667           3061.65   5  ",
      "text/html": "<div>\n<style scoped>\n    .dataframe tbody tr th:only-of-type {\n        vertical-align: middle;\n    }\n\n    .dataframe tbody tr th {\n        vertical-align: top;\n    }\n\n    .dataframe thead th {\n        text-align: right;\n    }\n</style>\n<table border=\"1\" class=\"dataframe\">\n  <thead>\n    <tr style=\"text-align: right;\">\n      <th></th>\n      <th>datetime</th>\n      <th>active_electricity</th>\n      <th>outdoor_temperature</th>\n      <th>indoor_temperature</th>\n      <th>past_electricity</th>\n      <th>id</th>\n    </tr>\n  </thead>\n  <tbody>\n    <tr>\n      <th>77</th>\n      <td>2022-10-04 08:00:00</td>\n      <td>378.1250</td>\n      <td>26.889868</td>\n      <td>18.500000</td>\n      <td>549.55</td>\n      <td>1</td>\n    </tr>\n    <tr>\n      <th>78</th>\n      <td>2022-10-04 09:00:00</td>\n      <td>687.1625</td>\n      <td>27.265097</td>\n      <td>20.500000</td>\n      <td>629.40</td>\n      <td>2</td>\n    </tr>\n    <tr>\n      <th>79</th>\n      <td>2022-10-04 10:00:00</td>\n      <td>618.7375</td>\n      <td>27.271529</td>\n      <td>22.500000</td>\n      <td>732.05</td>\n      <td>3</td>\n    </tr>\n    <tr>\n      <th>80</th>\n      <td>2022-10-04 11:00:00</td>\n      <td>1016.6875</td>\n      <td>27.142694</td>\n      <td>23.500000</td>\n      <td>1566.00</td>\n      <td>4</td>\n    </tr>\n    <tr>\n      <th>81</th>\n      <td>2022-10-04 12:00:00</td>\n      <td>1224.0500</td>\n      <td>27.013860</td>\n      <td>24.166667</td>\n      <td>3061.65</td>\n      <td>5</td>\n    </tr>\n  </tbody>\n</table>\n</div>"
     },
     "execution_count": 212,
     "metadata": {},
     "output_type": "execute_result"
    }
   ],
   "source": [
    "dataset.head()"
   ],
   "metadata": {
    "collapsed": false,
    "ExecuteTime": {
     "end_time": "2024-03-01T23:10:39.645622300Z",
     "start_time": "2024-03-01T23:10:39.606085200Z"
    }
   },
   "id": "584b366506e84fd6",
   "execution_count": 212
  },
  {
   "cell_type": "code",
   "outputs": [],
   "source": [
    "dataset.set_index(['id', 'datetime'], inplace=True)"
   ],
   "metadata": {
    "collapsed": false,
    "ExecuteTime": {
     "end_time": "2024-03-01T23:10:42.364244100Z",
     "start_time": "2024-03-01T23:10:42.334158200Z"
    }
   },
   "id": "3a8b8197c6b7ae39",
   "execution_count": 213
  },
  {
   "cell_type": "code",
   "outputs": [
    {
     "data": {
      "text/plain": "                        active_electricity  outdoor_temperature  \\\nid datetime                                                       \n1  2022-10-04 08:00:00            378.1250            26.889868   \n2  2022-10-04 09:00:00            687.1625            27.265097   \n3  2022-10-04 10:00:00            618.7375            27.271529   \n4  2022-10-04 11:00:00           1016.6875            27.142694   \n5  2022-10-04 12:00:00           1224.0500            27.013860   \n\n                        indoor_temperature  past_electricity  \nid datetime                                                   \n1  2022-10-04 08:00:00           18.500000            549.55  \n2  2022-10-04 09:00:00           20.500000            629.40  \n3  2022-10-04 10:00:00           22.500000            732.05  \n4  2022-10-04 11:00:00           23.500000           1566.00  \n5  2022-10-04 12:00:00           24.166667           3061.65  ",
      "text/html": "<div>\n<style scoped>\n    .dataframe tbody tr th:only-of-type {\n        vertical-align: middle;\n    }\n\n    .dataframe tbody tr th {\n        vertical-align: top;\n    }\n\n    .dataframe thead th {\n        text-align: right;\n    }\n</style>\n<table border=\"1\" class=\"dataframe\">\n  <thead>\n    <tr style=\"text-align: right;\">\n      <th></th>\n      <th></th>\n      <th>active_electricity</th>\n      <th>outdoor_temperature</th>\n      <th>indoor_temperature</th>\n      <th>past_electricity</th>\n    </tr>\n    <tr>\n      <th>id</th>\n      <th>datetime</th>\n      <th></th>\n      <th></th>\n      <th></th>\n      <th></th>\n    </tr>\n  </thead>\n  <tbody>\n    <tr>\n      <th>1</th>\n      <th>2022-10-04 08:00:00</th>\n      <td>378.1250</td>\n      <td>26.889868</td>\n      <td>18.500000</td>\n      <td>549.55</td>\n    </tr>\n    <tr>\n      <th>2</th>\n      <th>2022-10-04 09:00:00</th>\n      <td>687.1625</td>\n      <td>27.265097</td>\n      <td>20.500000</td>\n      <td>629.40</td>\n    </tr>\n    <tr>\n      <th>3</th>\n      <th>2022-10-04 10:00:00</th>\n      <td>618.7375</td>\n      <td>27.271529</td>\n      <td>22.500000</td>\n      <td>732.05</td>\n    </tr>\n    <tr>\n      <th>4</th>\n      <th>2022-10-04 11:00:00</th>\n      <td>1016.6875</td>\n      <td>27.142694</td>\n      <td>23.500000</td>\n      <td>1566.00</td>\n    </tr>\n    <tr>\n      <th>5</th>\n      <th>2022-10-04 12:00:00</th>\n      <td>1224.0500</td>\n      <td>27.013860</td>\n      <td>24.166667</td>\n      <td>3061.65</td>\n    </tr>\n  </tbody>\n</table>\n</div>"
     },
     "execution_count": 214,
     "metadata": {},
     "output_type": "execute_result"
    }
   ],
   "source": [
    "dataset.head()"
   ],
   "metadata": {
    "collapsed": false,
    "ExecuteTime": {
     "end_time": "2024-03-01T23:10:43.581082600Z",
     "start_time": "2024-03-01T23:10:43.533080800Z"
    }
   },
   "id": "822ac0b41a21de23",
   "execution_count": 214
  },
  {
   "cell_type": "code",
   "outputs": [],
   "source": [
    "X = dataset.copy().drop(['active_electricity'], axis=1)\n",
    "y = dataset.copy()['active_electricity']"
   ],
   "metadata": {
    "collapsed": false,
    "ExecuteTime": {
     "end_time": "2024-03-01T23:10:56.288933Z",
     "start_time": "2024-03-01T23:10:56.258664900Z"
    }
   },
   "id": "fb1c1f797e49b254",
   "execution_count": 215
  },
  {
   "cell_type": "code",
   "outputs": [],
   "source": [
    "X_train, X_test, y_train, y_test = train_test_split(X, y, test_size=0.15, random_state=42)"
   ],
   "metadata": {
    "collapsed": false,
    "ExecuteTime": {
     "end_time": "2024-03-01T23:10:58.439900300Z",
     "start_time": "2024-03-01T23:10:58.406743600Z"
    }
   },
   "id": "a3516cbc40d08f2d",
   "execution_count": 216
  },
  {
   "cell_type": "code",
   "outputs": [
    {
     "name": "stdout",
     "output_type": "stream",
     "text": [
      "(401, 3) (401,)\n",
      "(71, 3) (71,)\n"
     ]
    }
   ],
   "source": [
    "print(X_train.shape, y_train.shape)\n",
    "print(X_test.shape, y_test.shape)"
   ],
   "metadata": {
    "collapsed": false,
    "ExecuteTime": {
     "end_time": "2024-03-01T23:11:02.521796200Z",
     "start_time": "2024-03-01T23:11:02.500526200Z"
    }
   },
   "id": "f090f7d6ce5704b2",
   "execution_count": 217
  },
  {
   "cell_type": "code",
   "outputs": [],
   "source": [
    "regressor = SymbolicRegressor(\n",
    "    feature_names = X_train.columns,\n",
    "    random_state = 0\n",
    ")\n",
    "\n",
    "gp_model_pipeline = Pipeline([\n",
    "    ('scaler', StandardScaler()),\n",
    "    ('regressor', regressor)\n",
    "])"
   ],
   "metadata": {
    "collapsed": false,
    "ExecuteTime": {
     "end_time": "2024-03-01T23:11:14.573647200Z",
     "start_time": "2024-03-01T23:11:14.525775700Z"
    }
   },
   "id": "b43b86f63277102e",
   "execution_count": 218
  },
  {
   "cell_type": "code",
   "outputs": [
    {
     "data": {
      "text/plain": "Pipeline(steps=[('scaler', StandardScaler()),\n                ('regressor',\n                 SymbolicRegressor(feature_names=Index(['outdoor_temperature', 'indoor_temperature', 'past_electricity'], dtype='object'),\n                                   random_state=0))])",
      "text/html": "<style>#sk-container-id-2 {\n  /* Definition of color scheme common for light and dark mode */\n  --sklearn-color-text: black;\n  --sklearn-color-line: gray;\n  /* Definition of color scheme for unfitted estimators */\n  --sklearn-color-unfitted-level-0: #fff5e6;\n  --sklearn-color-unfitted-level-1: #f6e4d2;\n  --sklearn-color-unfitted-level-2: #ffe0b3;\n  --sklearn-color-unfitted-level-3: chocolate;\n  /* Definition of color scheme for fitted estimators */\n  --sklearn-color-fitted-level-0: #f0f8ff;\n  --sklearn-color-fitted-level-1: #d4ebff;\n  --sklearn-color-fitted-level-2: #b3dbfd;\n  --sklearn-color-fitted-level-3: cornflowerblue;\n\n  /* Specific color for light theme */\n  --sklearn-color-text-on-default-background: var(--sg-text-color, var(--theme-code-foreground, var(--jp-content-font-color1, black)));\n  --sklearn-color-background: var(--sg-background-color, var(--theme-background, var(--jp-layout-color0, white)));\n  --sklearn-color-border-box: var(--sg-text-color, var(--theme-code-foreground, var(--jp-content-font-color1, black)));\n  --sklearn-color-icon: #696969;\n\n  @media (prefers-color-scheme: dark) {\n    /* Redefinition of color scheme for dark theme */\n    --sklearn-color-text-on-default-background: var(--sg-text-color, var(--theme-code-foreground, var(--jp-content-font-color1, white)));\n    --sklearn-color-background: var(--sg-background-color, var(--theme-background, var(--jp-layout-color0, #111)));\n    --sklearn-color-border-box: var(--sg-text-color, var(--theme-code-foreground, var(--jp-content-font-color1, white)));\n    --sklearn-color-icon: #878787;\n  }\n}\n\n#sk-container-id-2 {\n  color: var(--sklearn-color-text);\n}\n\n#sk-container-id-2 pre {\n  padding: 0;\n}\n\n#sk-container-id-2 input.sk-hidden--visually {\n  border: 0;\n  clip: rect(1px 1px 1px 1px);\n  clip: rect(1px, 1px, 1px, 1px);\n  height: 1px;\n  margin: -1px;\n  overflow: hidden;\n  padding: 0;\n  position: absolute;\n  width: 1px;\n}\n\n#sk-container-id-2 div.sk-dashed-wrapped {\n  border: 1px dashed var(--sklearn-color-line);\n  margin: 0 0.4em 0.5em 0.4em;\n  box-sizing: border-box;\n  padding-bottom: 0.4em;\n  background-color: var(--sklearn-color-background);\n}\n\n#sk-container-id-2 div.sk-container {\n  /* jupyter's `normalize.less` sets `[hidden] { display: none; }`\n     but bootstrap.min.css set `[hidden] { display: none !important; }`\n     so we also need the `!important` here to be able to override the\n     default hidden behavior on the sphinx rendered scikit-learn.org.\n     See: https://github.com/scikit-learn/scikit-learn/issues/21755 */\n  display: inline-block !important;\n  position: relative;\n}\n\n#sk-container-id-2 div.sk-text-repr-fallback {\n  display: none;\n}\n\ndiv.sk-parallel-item,\ndiv.sk-serial,\ndiv.sk-item {\n  /* draw centered vertical line to link estimators */\n  background-image: linear-gradient(var(--sklearn-color-text-on-default-background), var(--sklearn-color-text-on-default-background));\n  background-size: 2px 100%;\n  background-repeat: no-repeat;\n  background-position: center center;\n}\n\n/* Parallel-specific style estimator block */\n\n#sk-container-id-2 div.sk-parallel-item::after {\n  content: \"\";\n  width: 100%;\n  border-bottom: 2px solid var(--sklearn-color-text-on-default-background);\n  flex-grow: 1;\n}\n\n#sk-container-id-2 div.sk-parallel {\n  display: flex;\n  align-items: stretch;\n  justify-content: center;\n  background-color: var(--sklearn-color-background);\n  position: relative;\n}\n\n#sk-container-id-2 div.sk-parallel-item {\n  display: flex;\n  flex-direction: column;\n}\n\n#sk-container-id-2 div.sk-parallel-item:first-child::after {\n  align-self: flex-end;\n  width: 50%;\n}\n\n#sk-container-id-2 div.sk-parallel-item:last-child::after {\n  align-self: flex-start;\n  width: 50%;\n}\n\n#sk-container-id-2 div.sk-parallel-item:only-child::after {\n  width: 0;\n}\n\n/* Serial-specific style estimator block */\n\n#sk-container-id-2 div.sk-serial {\n  display: flex;\n  flex-direction: column;\n  align-items: center;\n  background-color: var(--sklearn-color-background);\n  padding-right: 1em;\n  padding-left: 1em;\n}\n\n\n/* Toggleable style: style used for estimator/Pipeline/ColumnTransformer box that is\nclickable and can be expanded/collapsed.\n- Pipeline and ColumnTransformer use this feature and define the default style\n- Estimators will overwrite some part of the style using the `sk-estimator` class\n*/\n\n/* Pipeline and ColumnTransformer style (default) */\n\n#sk-container-id-2 div.sk-toggleable {\n  /* Default theme specific background. It is overwritten whether we have a\n  specific estimator or a Pipeline/ColumnTransformer */\n  background-color: var(--sklearn-color-background);\n}\n\n/* Toggleable label */\n#sk-container-id-2 label.sk-toggleable__label {\n  cursor: pointer;\n  display: block;\n  width: 100%;\n  margin-bottom: 0;\n  padding: 0.5em;\n  box-sizing: border-box;\n  text-align: center;\n}\n\n#sk-container-id-2 label.sk-toggleable__label-arrow:before {\n  /* Arrow on the left of the label */\n  content: \"▸\";\n  float: left;\n  margin-right: 0.25em;\n  color: var(--sklearn-color-icon);\n}\n\n#sk-container-id-2 label.sk-toggleable__label-arrow:hover:before {\n  color: var(--sklearn-color-text);\n}\n\n/* Toggleable content - dropdown */\n\n#sk-container-id-2 div.sk-toggleable__content {\n  max-height: 0;\n  max-width: 0;\n  overflow: hidden;\n  text-align: left;\n  /* unfitted */\n  background-color: var(--sklearn-color-unfitted-level-0);\n}\n\n#sk-container-id-2 div.sk-toggleable__content.fitted {\n  /* fitted */\n  background-color: var(--sklearn-color-fitted-level-0);\n}\n\n#sk-container-id-2 div.sk-toggleable__content pre {\n  margin: 0.2em;\n  border-radius: 0.25em;\n  color: var(--sklearn-color-text);\n  /* unfitted */\n  background-color: var(--sklearn-color-unfitted-level-0);\n}\n\n#sk-container-id-2 div.sk-toggleable__content.fitted pre {\n  /* unfitted */\n  background-color: var(--sklearn-color-fitted-level-0);\n}\n\n#sk-container-id-2 input.sk-toggleable__control:checked~div.sk-toggleable__content {\n  /* Expand drop-down */\n  max-height: 200px;\n  max-width: 100%;\n  overflow: auto;\n}\n\n#sk-container-id-2 input.sk-toggleable__control:checked~label.sk-toggleable__label-arrow:before {\n  content: \"▾\";\n}\n\n/* Pipeline/ColumnTransformer-specific style */\n\n#sk-container-id-2 div.sk-label input.sk-toggleable__control:checked~label.sk-toggleable__label {\n  color: var(--sklearn-color-text);\n  background-color: var(--sklearn-color-unfitted-level-2);\n}\n\n#sk-container-id-2 div.sk-label.fitted input.sk-toggleable__control:checked~label.sk-toggleable__label {\n  background-color: var(--sklearn-color-fitted-level-2);\n}\n\n/* Estimator-specific style */\n\n/* Colorize estimator box */\n#sk-container-id-2 div.sk-estimator input.sk-toggleable__control:checked~label.sk-toggleable__label {\n  /* unfitted */\n  background-color: var(--sklearn-color-unfitted-level-2);\n}\n\n#sk-container-id-2 div.sk-estimator.fitted input.sk-toggleable__control:checked~label.sk-toggleable__label {\n  /* fitted */\n  background-color: var(--sklearn-color-fitted-level-2);\n}\n\n#sk-container-id-2 div.sk-label label.sk-toggleable__label,\n#sk-container-id-2 div.sk-label label {\n  /* The background is the default theme color */\n  color: var(--sklearn-color-text-on-default-background);\n}\n\n/* On hover, darken the color of the background */\n#sk-container-id-2 div.sk-label:hover label.sk-toggleable__label {\n  color: var(--sklearn-color-text);\n  background-color: var(--sklearn-color-unfitted-level-2);\n}\n\n/* Label box, darken color on hover, fitted */\n#sk-container-id-2 div.sk-label.fitted:hover label.sk-toggleable__label.fitted {\n  color: var(--sklearn-color-text);\n  background-color: var(--sklearn-color-fitted-level-2);\n}\n\n/* Estimator label */\n\n#sk-container-id-2 div.sk-label label {\n  font-family: monospace;\n  font-weight: bold;\n  display: inline-block;\n  line-height: 1.2em;\n}\n\n#sk-container-id-2 div.sk-label-container {\n  text-align: center;\n}\n\n/* Estimator-specific */\n#sk-container-id-2 div.sk-estimator {\n  font-family: monospace;\n  border: 1px dotted var(--sklearn-color-border-box);\n  border-radius: 0.25em;\n  box-sizing: border-box;\n  margin-bottom: 0.5em;\n  /* unfitted */\n  background-color: var(--sklearn-color-unfitted-level-0);\n}\n\n#sk-container-id-2 div.sk-estimator.fitted {\n  /* fitted */\n  background-color: var(--sklearn-color-fitted-level-0);\n}\n\n/* on hover */\n#sk-container-id-2 div.sk-estimator:hover {\n  /* unfitted */\n  background-color: var(--sklearn-color-unfitted-level-2);\n}\n\n#sk-container-id-2 div.sk-estimator.fitted:hover {\n  /* fitted */\n  background-color: var(--sklearn-color-fitted-level-2);\n}\n\n/* Specification for estimator info (e.g. \"i\" and \"?\") */\n\n/* Common style for \"i\" and \"?\" */\n\n.sk-estimator-doc-link,\na:link.sk-estimator-doc-link,\na:visited.sk-estimator-doc-link {\n  float: right;\n  font-size: smaller;\n  line-height: 1em;\n  font-family: monospace;\n  background-color: var(--sklearn-color-background);\n  border-radius: 1em;\n  height: 1em;\n  width: 1em;\n  text-decoration: none !important;\n  margin-left: 1ex;\n  /* unfitted */\n  border: var(--sklearn-color-unfitted-level-1) 1pt solid;\n  color: var(--sklearn-color-unfitted-level-1);\n}\n\n.sk-estimator-doc-link.fitted,\na:link.sk-estimator-doc-link.fitted,\na:visited.sk-estimator-doc-link.fitted {\n  /* fitted */\n  border: var(--sklearn-color-fitted-level-1) 1pt solid;\n  color: var(--sklearn-color-fitted-level-1);\n}\n\n/* On hover */\ndiv.sk-estimator:hover .sk-estimator-doc-link:hover,\n.sk-estimator-doc-link:hover,\ndiv.sk-label-container:hover .sk-estimator-doc-link:hover,\n.sk-estimator-doc-link:hover {\n  /* unfitted */\n  background-color: var(--sklearn-color-unfitted-level-3);\n  color: var(--sklearn-color-background);\n  text-decoration: none;\n}\n\ndiv.sk-estimator.fitted:hover .sk-estimator-doc-link.fitted:hover,\n.sk-estimator-doc-link.fitted:hover,\ndiv.sk-label-container:hover .sk-estimator-doc-link.fitted:hover,\n.sk-estimator-doc-link.fitted:hover {\n  /* fitted */\n  background-color: var(--sklearn-color-fitted-level-3);\n  color: var(--sklearn-color-background);\n  text-decoration: none;\n}\n\n/* Span, style for the box shown on hovering the info icon */\n.sk-estimator-doc-link span {\n  display: none;\n  z-index: 9999;\n  position: relative;\n  font-weight: normal;\n  right: .2ex;\n  padding: .5ex;\n  margin: .5ex;\n  width: min-content;\n  min-width: 20ex;\n  max-width: 50ex;\n  color: var(--sklearn-color-text);\n  box-shadow: 2pt 2pt 4pt #999;\n  /* unfitted */\n  background: var(--sklearn-color-unfitted-level-0);\n  border: .5pt solid var(--sklearn-color-unfitted-level-3);\n}\n\n.sk-estimator-doc-link.fitted span {\n  /* fitted */\n  background: var(--sklearn-color-fitted-level-0);\n  border: var(--sklearn-color-fitted-level-3);\n}\n\n.sk-estimator-doc-link:hover span {\n  display: block;\n}\n\n/* \"?\"-specific style due to the `<a>` HTML tag */\n\n#sk-container-id-2 a.estimator_doc_link {\n  float: right;\n  font-size: 1rem;\n  line-height: 1em;\n  font-family: monospace;\n  background-color: var(--sklearn-color-background);\n  border-radius: 1rem;\n  height: 1rem;\n  width: 1rem;\n  text-decoration: none;\n  /* unfitted */\n  color: var(--sklearn-color-unfitted-level-1);\n  border: var(--sklearn-color-unfitted-level-1) 1pt solid;\n}\n\n#sk-container-id-2 a.estimator_doc_link.fitted {\n  /* fitted */\n  border: var(--sklearn-color-fitted-level-1) 1pt solid;\n  color: var(--sklearn-color-fitted-level-1);\n}\n\n/* On hover */\n#sk-container-id-2 a.estimator_doc_link:hover {\n  /* unfitted */\n  background-color: var(--sklearn-color-unfitted-level-3);\n  color: var(--sklearn-color-background);\n  text-decoration: none;\n}\n\n#sk-container-id-2 a.estimator_doc_link.fitted:hover {\n  /* fitted */\n  background-color: var(--sklearn-color-fitted-level-3);\n}\n</style><div id=\"sk-container-id-2\" class=\"sk-top-container\"><div class=\"sk-text-repr-fallback\"><pre>Pipeline(steps=[(&#x27;scaler&#x27;, StandardScaler()),\n                (&#x27;regressor&#x27;,\n                 SymbolicRegressor(feature_names=Index([&#x27;outdoor_temperature&#x27;, &#x27;indoor_temperature&#x27;, &#x27;past_electricity&#x27;], dtype=&#x27;object&#x27;),\n                                   random_state=0))])</pre><b>In a Jupyter environment, please rerun this cell to show the HTML representation or trust the notebook. <br />On GitHub, the HTML representation is unable to render, please try loading this page with nbviewer.org.</b></div><div class=\"sk-container\" hidden><div class=\"sk-item sk-dashed-wrapped\"><div class=\"sk-label-container\"><div class=\"sk-label fitted sk-toggleable\"><input class=\"sk-toggleable__control sk-hidden--visually\" id=\"sk-estimator-id-4\" type=\"checkbox\" ><label for=\"sk-estimator-id-4\" class=\"sk-toggleable__label fitted sk-toggleable__label-arrow fitted\">&nbsp;&nbsp;Pipeline<a class=\"sk-estimator-doc-link fitted\" rel=\"noreferrer\" target=\"_blank\" href=\"https://scikit-learn.org/1.4/modules/generated/sklearn.pipeline.Pipeline.html\">?<span>Documentation for Pipeline</span></a><span class=\"sk-estimator-doc-link fitted\">i<span>Fitted</span></span></label><div class=\"sk-toggleable__content fitted\"><pre>Pipeline(steps=[(&#x27;scaler&#x27;, StandardScaler()),\n                (&#x27;regressor&#x27;,\n                 SymbolicRegressor(feature_names=Index([&#x27;outdoor_temperature&#x27;, &#x27;indoor_temperature&#x27;, &#x27;past_electricity&#x27;], dtype=&#x27;object&#x27;),\n                                   random_state=0))])</pre></div> </div></div><div class=\"sk-serial\"><div class=\"sk-item\"><div class=\"sk-estimator fitted sk-toggleable\"><input class=\"sk-toggleable__control sk-hidden--visually\" id=\"sk-estimator-id-5\" type=\"checkbox\" ><label for=\"sk-estimator-id-5\" class=\"sk-toggleable__label fitted sk-toggleable__label-arrow fitted\">&nbsp;StandardScaler<a class=\"sk-estimator-doc-link fitted\" rel=\"noreferrer\" target=\"_blank\" href=\"https://scikit-learn.org/1.4/modules/generated/sklearn.preprocessing.StandardScaler.html\">?<span>Documentation for StandardScaler</span></a></label><div class=\"sk-toggleable__content fitted\"><pre>StandardScaler()</pre></div> </div></div><div class=\"sk-item\"><div class=\"sk-estimator fitted sk-toggleable\"><input class=\"sk-toggleable__control sk-hidden--visually\" id=\"sk-estimator-id-6\" type=\"checkbox\" ><label for=\"sk-estimator-id-6\" class=\"sk-toggleable__label fitted sk-toggleable__label-arrow fitted\">SymbolicRegressor</label><div class=\"sk-toggleable__content fitted\"><pre>add(sub(add(sub(add(0.005, add(mul(add(add(add(0.561, outdoor_temperature), div(0.941, 0.005)), mul(sub(div(0.941, 0.005), mul(indoor_temperature, add(div(sub(div(indoor_temperature, past_electricity), add(outdoor_temperature, -0.107)), add(0.431, past_electricity)), div(0.941, 0.005)))), sub(0.805, -0.514))), past_electricity), add(0.431, past_electricity))), add(sub(mul(outdoor_temperature, outdoor_temperature), mul(div(0.941, 0.005), sub(0.805, -0.514))), add(mul(outdoor_temperature, past_electricity), mul(0.928, -0.781)))), add(sub(0.805, -0.514), div(0.941, 0.005))), add(sub(mul(outdoor_temperature, outdoor_temperature), add(add(mul(div(0.941, 0.005), sub(0.805, -0.514)), div(0.941, 0.005)), add(sub(div(0.941, 0.005), add(add(past_electricity, -0.873), 0.941)), add(div(sub(div(indoor_temperature, past_electricity), add(outdoor_temperature, -0.107)), sub(add(outdoor_temperature, outdoor_temperature), add(sub(div(0.941, 0.005), mul(indoor_temperature, 0.498)), add(div(sub(div(indoor_temperature, past_electricity), add(outdoor_temperature, -0.107)), sub(add(outdoor_temperature, outdoor_temperature), div(0.941, 0.005))), div(0.941, 0.005))))), div(0.941, 0.005))))), add(mul(div(0.941, 0.005), sub(mul(0.928, -0.781), -0.514)), mul(0.928, -0.781)))), add(div(sub(div(indoor_temperature, past_electricity), add(outdoor_temperature, -0.107)), sub(add(outdoor_temperature, add(0.431, past_electricity)), div(indoor_temperature, indoor_temperature))), div(0.941, 0.005)))</pre></div> </div></div></div></div></div></div>"
     },
     "execution_count": 219,
     "metadata": {},
     "output_type": "execute_result"
    }
   ],
   "source": [
    "gp_model_pipeline.fit(X_train.values, y_train.values)"
   ],
   "metadata": {
    "collapsed": false,
    "ExecuteTime": {
     "end_time": "2024-03-01T23:11:30.932400500Z",
     "start_time": "2024-03-01T23:11:15.989779100Z"
    }
   },
   "id": "a14f0a539279d36e",
   "execution_count": 219
  },
  {
   "cell_type": "code",
   "outputs": [],
   "source": [
    "y_pred = gp_model_pipeline.predict(X_test.values)"
   ],
   "metadata": {
    "collapsed": false,
    "ExecuteTime": {
     "end_time": "2024-03-01T23:11:32.896840200Z",
     "start_time": "2024-03-01T23:11:32.879112600Z"
    }
   },
   "id": "d00d6ab62567a587",
   "execution_count": 220
  },
  {
   "cell_type": "code",
   "outputs": [],
   "source": [
    "import numpy as np\n",
    "from sklearn.metrics import mean_squared_error, mean_absolute_percentage_error, mean_absolute_error\n",
    "\n",
    "def compute_metrics(y_true, y_pred):\n",
    "    mse = mean_squared_error(y_true, y_pred, squared=True)\n",
    "    rmse = np.sqrt(mse)\n",
    "    mae = mean_absolute_error(y_true, y_pred)\n",
    "    mape = mean_absolute_percentage_error(y_true, y_pred) * 100\n",
    "\n",
    "    return np.round(mse, 2), np.round(rmse, 2), np.round(mae, 2), np.round(mape, 2)"
   ],
   "metadata": {
    "collapsed": false,
    "ExecuteTime": {
     "end_time": "2024-03-01T23:11:39.855526400Z",
     "start_time": "2024-03-01T23:11:39.838776500Z"
    }
   },
   "id": "301e439a3b672c0",
   "execution_count": 221
  },
  {
   "cell_type": "code",
   "outputs": [
    {
     "name": "stdout",
     "output_type": "stream",
     "text": [
      "add(sub(add(sub(add(0.005, add(mul(add(add(add(0.561, outdoor_temperature), div(0.941, 0.005)), mul(sub(div(0.941, 0.005), mul(indoor_temperature, add(div(sub(div(indoor_temperature, past_electricity), add(outdoor_temperature, -0.107)), add(0.431, past_electricity)), div(0.941, 0.005)))), sub(0.805, -0.514))), past_electricity), add(0.431, past_electricity))), add(sub(mul(outdoor_temperature, outdoor_temperature), mul(div(0.941, 0.005), sub(0.805, -0.514))), add(mul(outdoor_temperature, past_electricity), mul(0.928, -0.781)))), add(sub(0.805, -0.514), div(0.941, 0.005))), add(sub(mul(outdoor_temperature, outdoor_temperature), add(add(mul(div(0.941, 0.005), sub(0.805, -0.514)), div(0.941, 0.005)), add(sub(div(0.941, 0.005), add(add(past_electricity, -0.873), 0.941)), add(div(sub(div(indoor_temperature, past_electricity), add(outdoor_temperature, -0.107)), sub(add(outdoor_temperature, outdoor_temperature), add(sub(div(0.941, 0.005), mul(indoor_temperature, 0.498)), add(div(sub(div(indoor_temperature, past_electricity), add(outdoor_temperature, -0.107)), sub(add(outdoor_temperature, outdoor_temperature), div(0.941, 0.005))), div(0.941, 0.005))))), div(0.941, 0.005))))), add(mul(div(0.941, 0.005), sub(mul(0.928, -0.781), -0.514)), mul(0.928, -0.781)))), add(div(sub(div(indoor_temperature, past_electricity), add(outdoor_temperature, -0.107)), sub(add(outdoor_temperature, add(0.431, past_electricity)), div(indoor_temperature, indoor_temperature))), div(0.941, 0.005)))\n"
     ]
    }
   ],
   "source": [
    "print(regressor._program)"
   ],
   "metadata": {
    "collapsed": false,
    "ExecuteTime": {
     "end_time": "2024-03-01T23:11:44.197208100Z",
     "start_time": "2024-03-01T23:11:44.170082300Z"
    }
   },
   "id": "98253c8c739ae1cd",
   "execution_count": 222
  },
  {
   "cell_type": "code",
   "outputs": [
    {
     "name": "stdout",
     "output_type": "stream",
     "text": [
      "MSE: 665552.52  RMSE: 815.81  MAE: 578.27  MAPE%: 39.5\n"
     ]
    },
    {
     "name": "stderr",
     "output_type": "stream",
     "text": [
      "/home/rodion/miniconda3/envs/energy-data/lib/python3.10/site-packages/sklearn/metrics/_regression.py:483: FutureWarning: 'squared' is deprecated in version 1.4 and will be removed in 1.6. To calculate the root mean squared error, use the function'root_mean_squared_error'.\n",
      "  warnings.warn(\n"
     ]
    }
   ],
   "source": [
    "metric = compute_metrics(y_test, y_pred)\n",
    "print('MSE:',metric[0], ' RMSE:',metric[1],' MAE:',metric[2], ' MAPE%:',metric[3])"
   ],
   "metadata": {
    "collapsed": false,
    "ExecuteTime": {
     "end_time": "2024-03-01T23:11:47.192561600Z",
     "start_time": "2024-03-01T23:11:47.173748700Z"
    }
   },
   "id": "57ebf0994661f9cb",
   "execution_count": 223
  },
  {
   "cell_type": "code",
   "outputs": [],
   "source": [
    "import pickle as pkl\n",
    "\n",
    "X_train['y'] = y_train\n",
    "X_train.to_csv(\"energy_train_data.csv\")\n",
    "\n",
    "X_test['y'] = y_test\n",
    "X_test.to_csv(\"energy_test_data.csv\")\n",
    "\n",
    "with open(\"energy_gp_model.pkl\", \"wb\") as f:\n",
    "    pkl.dump(gp_model_pipeline, f)"
   ],
   "metadata": {
    "collapsed": false,
    "ExecuteTime": {
     "end_time": "2024-03-01T23:11:54.948383900Z",
     "start_time": "2024-03-01T23:11:54.861822600Z"
    }
   },
   "id": "5b1f58223b9c5bfe",
   "execution_count": 224
  },
  {
   "cell_type": "code",
   "outputs": [],
   "source": [],
   "metadata": {
    "collapsed": false
   },
   "id": "d6ff74a68f4acb3a"
  }
 ],
 "metadata": {
  "kernelspec": {
   "display_name": "Python 3",
   "language": "python",
   "name": "python3"
  },
  "language_info": {
   "codemirror_mode": {
    "name": "ipython",
    "version": 2
   },
   "file_extension": ".py",
   "mimetype": "text/x-python",
   "name": "python",
   "nbconvert_exporter": "python",
   "pygments_lexer": "ipython2",
   "version": "2.7.6"
  }
 },
 "nbformat": 4,
 "nbformat_minor": 5
}
