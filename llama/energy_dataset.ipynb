{
 "cells": [
  {
   "cell_type": "code",
   "execution_count": 3,
   "metadata": {},
   "outputs": [
    {
     "name": "stderr",
     "output_type": "stream",
     "text": [
      "/gpfs/space/home/rodion/ttm/llama/venv_llama/lib/python3.9/site-packages/tqdm/auto.py:21: TqdmWarning: IProgress not found. Please update jupyter and ipywidgets. See https://ipywidgets.readthedocs.io/en/stable/user_install.html\n",
      "  from .autonotebook import tqdm as notebook_tqdm\n"
     ]
    }
   ],
   "source": [
    "from datasets import load_dataset\n",
    "from transformers import LlamaTokenizer"
   ]
  },
  {
   "cell_type": "code",
   "execution_count": 15,
   "metadata": {},
   "outputs": [],
   "source": [
    "def get_custom_dataset(dataset_config, tokenizer, split='train'):\n",
    "    dataset = load_dataset('csv', data_files='energy_pandas.csv')\n",
    "\n",
    "    prompt = (\n",
    "        f\"Convert the question into an SQL parse. Question:\\n{{question}}\\n---\\nSQL parse:\\n\"\n",
    "    )\n",
    "\n",
    "    def apply_prompt_template(sample):\n",
    "        return {\n",
    "            \"question\": prompt.format(question=sample[\"natural_language\"]),\n",
    "            \"parse\": sample[\"parsed_utterance\"],\n",
    "        }\n",
    "\n",
    "    dataset = dataset.map(apply_prompt_template)\n",
    "\n",
    "    def tokenize_add_label(sample):\n",
    "        question = tokenizer.encode(tokenizer.bos_token + sample[\"question\"], add_special_tokens=False)\n",
    "        parse = tokenizer.encode(sample[\"parse\"] +  tokenizer.eos_token, add_special_tokens=False)\n",
    "\n",
    "        sample = {\n",
    "            \"input_ids\": question + parse,\n",
    "            \"attention_mask\" : [1] * (len(question) + len(parse)),\n",
    "            \"labels\": [-100] * len(question) + parse,\n",
    "            }\n",
    "\n",
    "        return sample\n",
    "\n",
    "    dataset = dataset.map(tokenize_add_label)\n",
    "\n",
    "    dataset = dataset['train'].train_test_split(test_size=0.2, seed=42)\n",
    "\n",
    "    return dataset[split]"
   ]
  },
  {
   "cell_type": "code",
   "execution_count": 5,
   "metadata": {},
   "outputs": [],
   "source": [
    "tokenizer = LlamaTokenizer.from_pretrained('meta-llama/Llama-2-7b-chat-hf')"
   ]
  },
  {
   "cell_type": "code",
   "execution_count": 18,
   "metadata": {},
   "outputs": [],
   "source": [
    "dset = get_custom_dataset(None, tokenizer, 'test')"
   ]
  },
  {
   "cell_type": "code",
   "execution_count": 19,
   "metadata": {},
   "outputs": [
    {
     "data": {
      "text/plain": [
       "Dataset({\n",
       "    features: ['id', 'natural_language', 'parsed_utterance', 'question', 'parse', 'input_ids', 'attention_mask', 'labels'],\n",
       "    num_rows: 2673\n",
       "})"
      ]
     },
     "execution_count": 19,
     "metadata": {},
     "output_type": "execute_result"
    }
   ],
   "source": [
    "dset"
   ]
  },
  {
   "cell_type": "code",
   "execution_count": null,
   "metadata": {},
   "outputs": [],
   "source": []
  }
 ],
 "metadata": {
  "kernelspec": {
   "display_name": "venv_llama",
   "language": "python",
   "name": "python3"
  },
  "language_info": {
   "codemirror_mode": {
    "name": "ipython",
    "version": 3
   },
   "file_extension": ".py",
   "mimetype": "text/x-python",
   "name": "python",
   "nbconvert_exporter": "python",
   "pygments_lexer": "ipython3",
   "version": "3.9.12"
  }
 },
 "nbformat": 4,
 "nbformat_minor": 2
}
